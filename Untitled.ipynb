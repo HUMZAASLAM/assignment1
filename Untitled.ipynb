{
 "cells": [
  {
   "cell_type": "code",
   "execution_count": 10,
   "id": "d947bba4",
   "metadata": {},
   "outputs": [
    {
     "name": "stdout",
     "output_type": "stream",
     "text": [
      "\n",
      "\tTwinkle, twinkle, little star, \n",
      "\t\tHow I wonder what you are! \n",
      "\t\t\tUp above the world so high, \n",
      "\t\t\tLike a diamond in the sky. \n",
      "\tTwinkle, twinkle, little star, \n",
      "\t\tHow I wonder what you are!\n"
     ]
    }
   ],
   "source": [
    "#QUESTION NO. 1\n",
    "print(\"\\n\\tTwinkle, twinkle, little star, \\n\\t\\tHow I wonder what you are! \\n\\t\\t\\tUp above the world so high, \\n\\t\\t\\tLike a diamond in the sky. \\n\\tTwinkle, twinkle, little star, \\n\\t\\tHow I wonder what you are!\")"
   ]
  },
  {
   "cell_type": "code",
   "execution_count": 7,
   "id": "5dd71ca5",
   "metadata": {},
   "outputs": [
    {
     "name": "stdout",
     "output_type": "stream",
     "text": [
      "Python version\n",
      "3.9.7 (default, Sep 16 2021, 16:59:28) [MSC v.1916 64 bit (AMD64)]\n",
      "Version info.\n",
      "sys.version_info(major=3, minor=9, micro=7, releaselevel='final', serial=0)\n"
     ]
    }
   ],
   "source": [
    "#QUESTION NO.2\n",
    "import sys\n",
    "print(\"Python version\")\n",
    "print (sys.version)\n",
    "print(\"Version info.\")\n",
    "print (sys.version_info)"
   ]
  },
  {
   "cell_type": "code",
   "execution_count": 8,
   "id": "9eeb256f",
   "metadata": {},
   "outputs": [
    {
     "name": "stdout",
     "output_type": "stream",
     "text": [
      "Current date and time : \n",
      "2022-01-01 23:13:31\n"
     ]
    }
   ],
   "source": [
    "#QUESTION NO.3\n",
    "import datetime\n",
    "now = datetime.datetime.now()\n",
    "print (\"Current date and time : \")\n",
    "print (now.strftime(\"%Y-%m-%d %H:%M:%S\"))"
   ]
  },
  {
   "cell_type": "code",
   "execution_count": 1,
   "id": "6241d81a",
   "metadata": {},
   "outputs": [
    {
     "name": "stdout",
     "output_type": "stream",
     "text": [
      "Input the radius of the circle : 6\n",
      "The area of the circle with radius 6.0 is: 113.09733552923255\n"
     ]
    }
   ],
   "source": [
    "#QUESTION NO.4\n",
    "from math import pi\n",
    "r = float(input (\"Input the radius of the circle : \"))\n",
    "print (\"The area of the circle with radius \" + str(r) + \" is: \" + str(pi * r**2))"
   ]
  },
  {
   "cell_type": "code",
   "execution_count": 2,
   "id": "7a573c06",
   "metadata": {},
   "outputs": [
    {
     "name": "stdout",
     "output_type": "stream",
     "text": [
      "Please write your First NameHUMZA\n",
      "Please write your Last NameASLAM\n",
      "ASLAM   HUMZA\n"
     ]
    }
   ],
   "source": [
    "#QUESTION NO.5\n",
    "firstName = input(\"Please write your First Name\")\n",
    "lastName = input(\"Please write your Last Name\")\n",
    "print (lastName , \" \" , firstName)"
   ]
  },
  {
   "cell_type": "code",
   "execution_count": 3,
   "id": "cba64a19",
   "metadata": {},
   "outputs": [
    {
     "name": "stdout",
     "output_type": "stream",
     "text": [
      "5\n",
      "9\n",
      "sum of both input numbers is : 14\n"
     ]
    }
   ],
   "source": [
    "#QUESTION NO.6\n",
    "a = int(input())\n",
    "b = int(input())\n",
    "\n",
    "total = a+b\n",
    "\n",
    "print (\"sum of both input numbers is :\" ,total)"
   ]
  },
  {
   "cell_type": "code",
   "execution_count": null,
   "id": "765693c6",
   "metadata": {},
   "outputs": [],
   "source": []
  }
 ],
 "metadata": {
  "kernelspec": {
   "display_name": "Python 3 (ipykernel)",
   "language": "python",
   "name": "python3"
  },
  "language_info": {
   "codemirror_mode": {
    "name": "ipython",
    "version": 3
   },
   "file_extension": ".py",
   "mimetype": "text/x-python",
   "name": "python",
   "nbconvert_exporter": "python",
   "pygments_lexer": "ipython3",
   "version": "3.9.7"
  }
 },
 "nbformat": 4,
 "nbformat_minor": 5
}
